{
 "cells": [
  {
   "cell_type": "markdown",
   "metadata": {},
   "source": [
    "# Create some Data"
   ]
  },
  {
   "cell_type": "code",
   "execution_count": null,
   "metadata": {
    "collapsed": false
   },
   "outputs": [],
   "source": [
    "# Create 100 phony x, y data points in NumPy, y = x * 0.1 + 0.3\n",
    "import numpy as np\n",
    "import matplotlib.pyplot as plt\n",
    "%matplotlib inline\n",
    "\n",
    "x_measured = np.random.rand(100).astype(np.float32)\n",
    "y_measured = x_measured * (0.1 + (0.05 *np.random.rand(100))) + 0.3\n",
    "plt.scatter(x_measured, y_measured)\n",
    "plt.xlabel('<- Bluer : Uniform Color : Redder ->')\n",
    "plt.ylabel('Deaths per mission')\n",
    "plt.title('Star Trek Uniform Color Mortality Incidence')\n",
    "# plt.plot([0, 1], [0, 0.5], color='purple', lw=2)\n",
    "# plt.plot([0, 1], [0.25, 0.5], color='purple', lw=2)\n"
   ]
  },
  {
   "cell_type": "markdown",
   "metadata": {},
   "source": [
    "## Create our Model"
   ]
  },
  {
   "cell_type": "code",
   "execution_count": 4,
   "metadata": {
    "collapsed": false
   },
   "outputs": [],
   "source": [
    "import tensorflow as tf\n",
    "\n",
    "# Try to find values for slope and offset that match \n",
    "#    y_measured = slope * x_measured + offset\n",
    "slope = tf.Variable(tf.zeros([1]))\n",
    "offset = tf.Variable(tf.zeros([1]))\n",
    "y_predicted = slope * x_measured + offset"
   ]
  },
  {
   "cell_type": "markdown",
   "metadata": {},
   "source": [
    "### We'll try out a line and see how far away it is from the current points.\n",
    "For each current point we'll calculate the mean squared error.<br/>\n",
    "This value is what we want to minimize so we will call it the `loss`"
   ]
  },
  {
   "cell_type": "code",
   "execution_count": 5,
   "metadata": {
    "collapsed": false
   },
   "outputs": [],
   "source": [
    "loss = tf.reduce_mean(tf.square(y_predicted - y_measured))\n",
    "\n",
    "optimizer = tf.train.GradientDescentOptimizer(0.5)\n",
    "\n",
    "train = optimizer.minimize(loss)"
   ]
  },
  {
   "cell_type": "markdown",
   "metadata": {},
   "source": [
    "## Now let's change the values in our model \n",
    "### and see how well our model can predict our measured `y`"
   ]
  },
  {
   "cell_type": "code",
   "execution_count": null,
   "metadata": {
    "collapsed": false
   },
   "outputs": [],
   "source": [
    "# Launch the graph.\n",
    "sess = tf.Session()\n",
    "sess.run(tf.initialize_all_variables()) # and initialize variables\n",
    "\n",
    "# Fit the line.\n",
    "print 'step #\\t', 'slope\\t\\t', 'offset' \n",
    "\n",
    "for step in range(201):\n",
    "    sess.run(train)\n",
    "    if step % 20 == 0:\n",
    "        print step,'\\t', sess.run(slope)[0], '\\t', sess.run(offset)[0]\n",
    "\n"
   ]
  },
  {
   "cell_type": "code",
   "execution_count": null,
   "metadata": {
    "collapsed": false
   },
   "outputs": [],
   "source": [
    "plt.scatter(x_measured, y_measured)\n",
    "plt.xlabel('<- Bluer : Uniform Color : Redder ->')\n",
    "plt.ylabel('Deaths per mission')\n",
    "plt.title('Star Trek Uniform Color Mortality Incidence')\n",
    "plt.plot([0, 1], [sess.run(offset)[0], sess.run(slope)[0]+sess.run(offset)[0] ], color='purple', lw=2)\n"
   ]
  },
  {
   "cell_type": "code",
   "execution_count": null,
   "metadata": {
    "collapsed": true
   },
   "outputs": [],
   "source": []
  }
 ],
 "metadata": {
  "kernelspec": {
   "display_name": "Python 2",
   "language": "python",
   "name": "python2"
  },
  "language_info": {
   "codemirror_mode": {
    "name": "ipython",
    "version": 2
   },
   "file_extension": ".py",
   "mimetype": "text/x-python",
   "name": "python",
   "nbconvert_exporter": "python",
   "pygments_lexer": "ipython2",
   "version": "2.7.9"
  }
 },
 "nbformat": 4,
 "nbformat_minor": 1
}
